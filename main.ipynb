{
 "cells": [
  {
   "attachments": {},
   "cell_type": "markdown",
   "id": "b72fc1ab",
   "metadata": {},
   "source": [
    "## Being able to Indentify PII from a block of text \n",
    "### The NER (Named Entity Recognition) way! - Real Time model, takes in a text string at a time\n",
    "### Pacakages - Pre-trained spacy model"
   ]
  },
  {
   "cell_type": "code",
   "execution_count": 6,
   "id": "48ee6eee",
   "metadata": {},
   "outputs": [],
   "source": [
    "import spacy\n",
    "import pycountry\n",
    "import pandas as pd\n",
    "import re\n",
    "import numpy as np\n",
    "import time\n",
    "from langdetect import detect, lang_detect_exception\n",
    "import warnings\n",
    "import utils.pii_data_processing as pii_dp\n",
    "import utils.pii_score as pii_score\n",
    "import utils.pii_address_flag as pii_address\n",
    "import utils.pii_phn_org_name as pii_phn_org\n",
    "import utils.pii_redact as pii_redact\n",
    "import utils.pii_main_flag as pii_main_flag\n",
    "import utils.pii_sniffer as pii_sniffer\n",
    "warnings.filterwarnings(\"ignore\")\n",
    "# !python -m spacy download de_core_news_lg"
   ]
  },
  {
   "cell_type": "code",
   "execution_count": 13,
   "id": "97ef6f1d",
   "metadata": {},
   "outputs": [],
   "source": [
    "#test_string = \"Herr Hans Muller, Hauptstrasse 38A, 3806 Bönigen b. Interlaken, hans.muller@hghg.com, +38939321, google.inc\" \n",
    "#test_string = \"c/o Service des Finances, Place de l'Hôtel de Ville 1, 1030 Bussigny\"\n",
    "#test_string = \"123 Main St, New York, USA.\"\n",
    "test_string = \"John Smith lives at 123 Main St, New York, USA. Email: john.smith@example.com ph 123939402\"\n",
    "#test_string = \"Chalet Petit Paradis, 1873 Val-d'Illiez\"\n",
    "#test_string = \"Faubourg de l'Hôpital 31, 2000 Neuchâtel\"\n",
    "#test_string = \"Avenue d'Epenex 19, 1024 Ecublens VD\"\n",
    "#test_string = \"Mary Lou, 25 Rue de la République, 75001 Paris\" "
   ]
  },
  {
   "attachments": {},
   "cell_type": "markdown",
   "id": "47d602ab",
   "metadata": {},
   "source": [
    "# Pacakging the above functionalities into a self sustaining model"
   ]
  },
  {
   "cell_type": "code",
   "execution_count": 14,
   "id": "f87a4db5",
   "metadata": {},
   "outputs": [
    {
     "data": {
      "text/html": [
       "<div>\n",
       "<style scoped>\n",
       "    .dataframe tbody tr th:only-of-type {\n",
       "        vertical-align: middle;\n",
       "    }\n",
       "\n",
       "    .dataframe tbody tr th {\n",
       "        vertical-align: top;\n",
       "    }\n",
       "\n",
       "    .dataframe thead th {\n",
       "        text-align: right;\n",
       "    }\n",
       "</style>\n",
       "<table border=\"1\" class=\"dataframe\">\n",
       "  <thead>\n",
       "    <tr style=\"text-align: right;\">\n",
       "      <th></th>\n",
       "      <th>Text</th>\n",
       "      <th>LangCode</th>\n",
       "    </tr>\n",
       "  </thead>\n",
       "  <tbody>\n",
       "    <tr>\n",
       "      <th>0</th>\n",
       "      <td>John Smith lives at 123 Main St, New York, USA...</td>\n",
       "      <td>EN</td>\n",
       "    </tr>\n",
       "  </tbody>\n",
       "</table>\n",
       "</div>"
      ],
      "text/plain": [
       "                                                Text LangCode\n",
       "0  John Smith lives at 123 Main St, New York, USA...       EN"
      ]
     },
     "execution_count": 14,
     "metadata": {},
     "output_type": "execute_result"
    }
   ],
   "source": [
    "sniffer = pii_sniffer.pii_sniffer(test_string)\n",
    "sniffer.data_processing()\n",
    "processed_data = sniffer.data\n",
    "processed_data"
   ]
  },
  {
   "cell_type": "code",
   "execution_count": 15,
   "id": "3965b3e3",
   "metadata": {},
   "outputs": [
    {
     "data": {
      "text/html": [
       "<div>\n",
       "<style scoped>\n",
       "    .dataframe tbody tr th:only-of-type {\n",
       "        vertical-align: middle;\n",
       "    }\n",
       "\n",
       "    .dataframe tbody tr th {\n",
       "        vertical-align: top;\n",
       "    }\n",
       "\n",
       "    .dataframe thead th {\n",
       "        text-align: right;\n",
       "    }\n",
       "</style>\n",
       "<table border=\"1\" class=\"dataframe\">\n",
       "  <thead>\n",
       "    <tr style=\"text-align: right;\">\n",
       "      <th></th>\n",
       "      <th>Text</th>\n",
       "      <th>LangCode</th>\n",
       "      <th>SpacyLocationEntities</th>\n",
       "      <th>RegexLocationEntities</th>\n",
       "      <th>AddressFlag</th>\n",
       "    </tr>\n",
       "  </thead>\n",
       "  <tbody>\n",
       "    <tr>\n",
       "      <th>0</th>\n",
       "      <td>John Smith lives at 123 Main St, New York, USA...</td>\n",
       "      <td>EN</td>\n",
       "      <td>[[(New, York), (USA)], [(New, York), (USA)]]</td>\n",
       "      <td>NaN</td>\n",
       "      <td>AddressFound</td>\n",
       "    </tr>\n",
       "  </tbody>\n",
       "</table>\n",
       "</div>"
      ],
      "text/plain": [
       "                                                Text LangCode  \\\n",
       "0  John Smith lives at 123 Main St, New York, USA...       EN   \n",
       "\n",
       "                          SpacyLocationEntities  RegexLocationEntities  \\\n",
       "0  [[(New, York), (USA)], [(New, York), (USA)]]                    NaN   \n",
       "\n",
       "    AddressFlag  \n",
       "0  AddressFound  "
      ]
     },
     "execution_count": 15,
     "metadata": {},
     "output_type": "execute_result"
    }
   ],
   "source": [
    "sniffer.address_flag()\n",
    "processed_data = sniffer.data\n",
    "processed_data"
   ]
  },
  {
   "cell_type": "code",
   "execution_count": 17,
   "id": "cbf2b682",
   "metadata": {},
   "outputs": [
    {
     "data": {
      "text/html": [
       "<div>\n",
       "<style scoped>\n",
       "    .dataframe tbody tr th:only-of-type {\n",
       "        vertical-align: middle;\n",
       "    }\n",
       "\n",
       "    .dataframe tbody tr th {\n",
       "        vertical-align: top;\n",
       "    }\n",
       "\n",
       "    .dataframe thead th {\n",
       "        text-align: right;\n",
       "    }\n",
       "</style>\n",
       "<table border=\"1\" class=\"dataframe\">\n",
       "  <thead>\n",
       "    <tr style=\"text-align: right;\">\n",
       "      <th></th>\n",
       "      <th>Text</th>\n",
       "      <th>LangCode</th>\n",
       "      <th>SpacyLocationEntities</th>\n",
       "      <th>RegexLocationEntities</th>\n",
       "      <th>AddressFlag</th>\n",
       "      <th>PII_Score</th>\n",
       "      <th>PII_Entities</th>\n",
       "    </tr>\n",
       "  </thead>\n",
       "  <tbody>\n",
       "    <tr>\n",
       "      <th>0</th>\n",
       "      <td>John Smith lives at 123 Main St, New York, USA...</td>\n",
       "      <td>EN</td>\n",
       "      <td>[[(New, York), (USA)], [(New, York), (USA)]]</td>\n",
       "      <td>NaN</td>\n",
       "      <td>AddressFound</td>\n",
       "      <td>3</td>\n",
       "      <td>[(John, Smith), (New, York), (USA)]</td>\n",
       "    </tr>\n",
       "  </tbody>\n",
       "</table>\n",
       "</div>"
      ],
      "text/plain": [
       "                                                Text LangCode  \\\n",
       "0  John Smith lives at 123 Main St, New York, USA...       EN   \n",
       "\n",
       "                          SpacyLocationEntities  RegexLocationEntities  \\\n",
       "0  [[(New, York), (USA)], [(New, York), (USA)]]                    NaN   \n",
       "\n",
       "    AddressFlag  PII_Score                         PII_Entities  \n",
       "0  AddressFound          3  [(John, Smith), (New, York), (USA)]  "
      ]
     },
     "execution_count": 17,
     "metadata": {},
     "output_type": "execute_result"
    }
   ],
   "source": [
    "sniffer.pii_scorer_call()\n",
    "processed_data = sniffer.data\n",
    "#json_processed = processed_data.to_json(orient='records', default_handler=str)\n",
    "processed_data"
   ]
  },
  {
   "cell_type": "code",
   "execution_count": 18,
   "id": "ba90850e",
   "metadata": {},
   "outputs": [
    {
     "data": {
      "text/html": [
       "<div>\n",
       "<style scoped>\n",
       "    .dataframe tbody tr th:only-of-type {\n",
       "        vertical-align: middle;\n",
       "    }\n",
       "\n",
       "    .dataframe tbody tr th {\n",
       "        vertical-align: top;\n",
       "    }\n",
       "\n",
       "    .dataframe thead th {\n",
       "        text-align: right;\n",
       "    }\n",
       "</style>\n",
       "<table border=\"1\" class=\"dataframe\">\n",
       "  <thead>\n",
       "    <tr style=\"text-align: right;\">\n",
       "      <th></th>\n",
       "      <th>Text</th>\n",
       "      <th>LangCode</th>\n",
       "      <th>SpacyLocationEntities</th>\n",
       "      <th>RegexLocationEntities</th>\n",
       "      <th>AddressFlag</th>\n",
       "      <th>PII_Score</th>\n",
       "      <th>PII_Entities</th>\n",
       "      <th>Redacted_Text</th>\n",
       "      <th>Name</th>\n",
       "      <th>Emails</th>\n",
       "    </tr>\n",
       "  </thead>\n",
       "  <tbody>\n",
       "    <tr>\n",
       "      <th>0</th>\n",
       "      <td>John Smith lives at 123 Main St, New York, USA...</td>\n",
       "      <td>EN</td>\n",
       "      <td>[[(New, York), (USA)], [(New, York), (USA)]]</td>\n",
       "      <td>NaN</td>\n",
       "      <td>AddressFound</td>\n",
       "      <td>3</td>\n",
       "      <td>[(John, Smith), (New, York), (USA)]</td>\n",
       "      <td>**** lives at 123 Main St, New York, USA. Emai...</td>\n",
       "      <td>[John Smith]</td>\n",
       "      <td>[john.smith@example.com]</td>\n",
       "    </tr>\n",
       "  </tbody>\n",
       "</table>\n",
       "</div>"
      ],
      "text/plain": [
       "                                                Text LangCode  \\\n",
       "0  John Smith lives at 123 Main St, New York, USA...       EN   \n",
       "\n",
       "                          SpacyLocationEntities  RegexLocationEntities  \\\n",
       "0  [[(New, York), (USA)], [(New, York), (USA)]]                    NaN   \n",
       "\n",
       "    AddressFlag  PII_Score                         PII_Entities  \\\n",
       "0  AddressFound          3  [(John, Smith), (New, York), (USA)]   \n",
       "\n",
       "                                       Redacted_Text          Name  \\\n",
       "0  **** lives at 123 Main St, New York, USA. Emai...  [John Smith]   \n",
       "\n",
       "                     Emails  \n",
       "0  [john.smith@example.com]  "
      ]
     },
     "execution_count": 18,
     "metadata": {},
     "output_type": "execute_result"
    }
   ],
   "source": [
    "sniffer.rpi_caller()\n",
    "processed_data = sniffer.data\n",
    "#json_processed = processed_data.to_json(orient='records', default_handler=str)\n",
    "processed_data"
   ]
  },
  {
   "cell_type": "code",
   "execution_count": 19,
   "id": "d3e34042",
   "metadata": {},
   "outputs": [
    {
     "data": {
      "text/html": [
       "<div>\n",
       "<style scoped>\n",
       "    .dataframe tbody tr th:only-of-type {\n",
       "        vertical-align: middle;\n",
       "    }\n",
       "\n",
       "    .dataframe tbody tr th {\n",
       "        vertical-align: top;\n",
       "    }\n",
       "\n",
       "    .dataframe thead th {\n",
       "        text-align: right;\n",
       "    }\n",
       "</style>\n",
       "<table border=\"1\" class=\"dataframe\">\n",
       "  <thead>\n",
       "    <tr style=\"text-align: right;\">\n",
       "      <th></th>\n",
       "      <th>Text</th>\n",
       "      <th>LangCode</th>\n",
       "      <th>SpacyLocationEntities</th>\n",
       "      <th>RegexLocationEntities</th>\n",
       "      <th>AddressFlag</th>\n",
       "      <th>PII_Score</th>\n",
       "      <th>PII_Entities</th>\n",
       "      <th>Redacted_Text</th>\n",
       "      <th>Name</th>\n",
       "      <th>Emails</th>\n",
       "      <th>PhoneNumber</th>\n",
       "      <th>HouseNumber</th>\n",
       "    </tr>\n",
       "  </thead>\n",
       "  <tbody>\n",
       "    <tr>\n",
       "      <th>0</th>\n",
       "      <td>John Smith lives at 123 Main St, New York, USA...</td>\n",
       "      <td>EN</td>\n",
       "      <td>[[(New, York), (USA)], [(New, York), (USA)]]</td>\n",
       "      <td>NaN</td>\n",
       "      <td>AddressFound</td>\n",
       "      <td>3</td>\n",
       "      <td>[(John, Smith), (New, York), (USA)]</td>\n",
       "      <td>**** lives at 123 Main St, New York, USA. Emai...</td>\n",
       "      <td>[John Smith]</td>\n",
       "      <td>[john.smith@example.com]</td>\n",
       "      <td>[123939402]</td>\n",
       "      <td>[123]</td>\n",
       "    </tr>\n",
       "  </tbody>\n",
       "</table>\n",
       "</div>"
      ],
      "text/plain": [
       "                                                Text LangCode  \\\n",
       "0  John Smith lives at 123 Main St, New York, USA...       EN   \n",
       "\n",
       "                          SpacyLocationEntities  RegexLocationEntities  \\\n",
       "0  [[(New, York), (USA)], [(New, York), (USA)]]                    NaN   \n",
       "\n",
       "    AddressFlag  PII_Score                         PII_Entities  \\\n",
       "0  AddressFound          3  [(John, Smith), (New, York), (USA)]   \n",
       "\n",
       "                                       Redacted_Text          Name  \\\n",
       "0  **** lives at 123 Main St, New York, USA. Emai...  [John Smith]   \n",
       "\n",
       "                     Emails  PhoneNumber HouseNumber  \n",
       "0  [john.smith@example.com]  [123939402]       [123]  "
      ]
     },
     "execution_count": 19,
     "metadata": {},
     "output_type": "execute_result"
    }
   ],
   "source": [
    "sniffer.extract_phone_numbers()\n",
    "processed_data = sniffer.data\n",
    "#json_processed = processed_data.to_json(orient='records', default_handler=str)\n",
    "processed_data"
   ]
  },
  {
   "cell_type": "code",
   "execution_count": 20,
   "id": "6392f7b4",
   "metadata": {},
   "outputs": [
    {
     "data": {
      "text/html": [
       "<div>\n",
       "<style scoped>\n",
       "    .dataframe tbody tr th:only-of-type {\n",
       "        vertical-align: middle;\n",
       "    }\n",
       "\n",
       "    .dataframe tbody tr th {\n",
       "        vertical-align: top;\n",
       "    }\n",
       "\n",
       "    .dataframe thead th {\n",
       "        text-align: right;\n",
       "    }\n",
       "</style>\n",
       "<table border=\"1\" class=\"dataframe\">\n",
       "  <thead>\n",
       "    <tr style=\"text-align: right;\">\n",
       "      <th></th>\n",
       "      <th>Text</th>\n",
       "      <th>LangCode</th>\n",
       "      <th>SpacyLocationEntities</th>\n",
       "      <th>RegexLocationEntities</th>\n",
       "      <th>AddressFlag</th>\n",
       "      <th>PII_Score</th>\n",
       "      <th>PII_Entities</th>\n",
       "      <th>Redacted_Text</th>\n",
       "      <th>Name</th>\n",
       "      <th>Emails</th>\n",
       "      <th>PhoneNumber</th>\n",
       "      <th>HouseNumber</th>\n",
       "      <th>OrgName</th>\n",
       "    </tr>\n",
       "  </thead>\n",
       "  <tbody>\n",
       "    <tr>\n",
       "      <th>0</th>\n",
       "      <td>John Smith lives at 123 Main St, New York, USA...</td>\n",
       "      <td>EN</td>\n",
       "      <td>[[(New, York), (USA)], [(New, York), (USA)]]</td>\n",
       "      <td>NaN</td>\n",
       "      <td>AddressFound</td>\n",
       "      <td>3</td>\n",
       "      <td>[(John, Smith), (New, York), (USA)]</td>\n",
       "      <td>**** lives at 123 Main St, New York, USA. Emai...</td>\n",
       "      <td>[John Smith]</td>\n",
       "      <td>[john.smith@example.com]</td>\n",
       "      <td>[123939402]</td>\n",
       "      <td>[123]</td>\n",
       "      <td>NaN</td>\n",
       "    </tr>\n",
       "  </tbody>\n",
       "</table>\n",
       "</div>"
      ],
      "text/plain": [
       "                                                Text LangCode  \\\n",
       "0  John Smith lives at 123 Main St, New York, USA...       EN   \n",
       "\n",
       "                          SpacyLocationEntities  RegexLocationEntities  \\\n",
       "0  [[(New, York), (USA)], [(New, York), (USA)]]                    NaN   \n",
       "\n",
       "    AddressFlag  PII_Score                         PII_Entities  \\\n",
       "0  AddressFound          3  [(John, Smith), (New, York), (USA)]   \n",
       "\n",
       "                                       Redacted_Text          Name  \\\n",
       "0  **** lives at 123 Main St, New York, USA. Emai...  [John Smith]   \n",
       "\n",
       "                     Emails  PhoneNumber HouseNumber  OrgName  \n",
       "0  [john.smith@example.com]  [123939402]       [123]      NaN  "
      ]
     },
     "execution_count": 20,
     "metadata": {},
     "output_type": "execute_result"
    }
   ],
   "source": [
    "sniffer.extract_organization_names()\n",
    "processed_data = sniffer.data\n",
    "#json_processed = processed_data.to_json(orient='records', default_handler=str)\n",
    "processed_data"
   ]
  },
  {
   "cell_type": "code",
   "execution_count": 21,
   "id": "76662d3b",
   "metadata": {},
   "outputs": [
    {
     "data": {
      "text/html": [
       "<div>\n",
       "<style scoped>\n",
       "    .dataframe tbody tr th:only-of-type {\n",
       "        vertical-align: middle;\n",
       "    }\n",
       "\n",
       "    .dataframe tbody tr th {\n",
       "        vertical-align: top;\n",
       "    }\n",
       "\n",
       "    .dataframe thead th {\n",
       "        text-align: right;\n",
       "    }\n",
       "</style>\n",
       "<table border=\"1\" class=\"dataframe\">\n",
       "  <thead>\n",
       "    <tr style=\"text-align: right;\">\n",
       "      <th></th>\n",
       "      <th>Text</th>\n",
       "      <th>LangCode</th>\n",
       "      <th>SpacyLocationEntities</th>\n",
       "      <th>RegexLocationEntities</th>\n",
       "      <th>AddressFlag</th>\n",
       "      <th>PII_Score</th>\n",
       "      <th>PII_Entities</th>\n",
       "      <th>Redacted_Text</th>\n",
       "      <th>Name</th>\n",
       "      <th>Emails</th>\n",
       "      <th>PhoneNumber</th>\n",
       "      <th>HouseNumber</th>\n",
       "      <th>OrgName</th>\n",
       "      <th>SpacyEntities</th>\n",
       "      <th>RegexMatches</th>\n",
       "      <th>PII_Flag</th>\n",
       "    </tr>\n",
       "  </thead>\n",
       "  <tbody>\n",
       "    <tr>\n",
       "      <th>0</th>\n",
       "      <td>John Smith lives at 123 Main St, New York, USA...</td>\n",
       "      <td>EN</td>\n",
       "      <td>[[(New, York), (USA)], [(New, York), (USA)]]</td>\n",
       "      <td>NaN</td>\n",
       "      <td>AddressFound</td>\n",
       "      <td>3</td>\n",
       "      <td>[(John, Smith), (New, York), (USA)]</td>\n",
       "      <td>**** lives at 123 Main St, New York, USA. Emai...</td>\n",
       "      <td>[John Smith]</td>\n",
       "      <td>[john.smith@example.com]</td>\n",
       "      <td>[123939402]</td>\n",
       "      <td>[123]</td>\n",
       "      <td>NaN</td>\n",
       "      <td>[(John, Smith)]</td>\n",
       "      <td>NaN</td>\n",
       "      <td>1</td>\n",
       "    </tr>\n",
       "  </tbody>\n",
       "</table>\n",
       "</div>"
      ],
      "text/plain": [
       "                                                Text LangCode  \\\n",
       "0  John Smith lives at 123 Main St, New York, USA...       EN   \n",
       "\n",
       "                          SpacyLocationEntities  RegexLocationEntities  \\\n",
       "0  [[(New, York), (USA)], [(New, York), (USA)]]                    NaN   \n",
       "\n",
       "    AddressFlag  PII_Score                         PII_Entities  \\\n",
       "0  AddressFound          3  [(John, Smith), (New, York), (USA)]   \n",
       "\n",
       "                                       Redacted_Text          Name  \\\n",
       "0  **** lives at 123 Main St, New York, USA. Emai...  [John Smith]   \n",
       "\n",
       "                     Emails  PhoneNumber HouseNumber  OrgName  \\\n",
       "0  [john.smith@example.com]  [123939402]       [123]      NaN   \n",
       "\n",
       "     SpacyEntities  RegexMatches  PII_Flag  \n",
       "0  [(John, Smith)]           NaN         1  "
      ]
     },
     "execution_count": 21,
     "metadata": {},
     "output_type": "execute_result"
    }
   ],
   "source": [
    "sniffer.detect_pii_flag()\n",
    "processed_data = sniffer.data\n",
    "#json_processed = processed_data.to_json(orient='records', default_handler=str)\n",
    "processed_data"
   ]
  },
  {
   "cell_type": "code",
   "execution_count": 10,
   "id": "a5fb32ef",
   "metadata": {},
   "outputs": [],
   "source": [
    "#!python -m spacy download it_core_news_lg\n",
    "#!python -m spacy download ja_core_news_sm\n",
    "#!python -m spacy download ca_core_news_sm\n",
    "#!python -m spacy download nl_core_news_sm\n",
    "#!python -m spacy download pt_core_news_sm\n",
    "#!python -m spacy download ro_core_news_sm\n",
    "#!python -m spacy download es_core_news_sm"
   ]
  },
  {
   "cell_type": "code",
   "execution_count": 11,
   "id": "58d672d9",
   "metadata": {},
   "outputs": [
    {
     "data": {
      "text/plain": [
       "'[{\"Text\":\"c\\\\/o Service des Finances, Place de l\\'H\\\\u00f4tel de Ville 1, 1030 Bussigny\",\"LangCode\":\"FR\",\"PII_Score\":1,\"PII_Entities\":[\"Service des Finances\"],\"Redacted_Text\":\"c\\\\/o Service des Finances, Place de l\\'H\\\\u00f4tel de Ville 1, 1030 Bussigny\",\"Name\":null,\"Emails\":null,\"PhoneNumber\":null,\"HouseNumber\":[\"1\",\"1030\"],\"OrgName\":null,\"SpacyEntities\":null,\"RegexMatches\":null,\"PII_Flag\":0}]'"
      ]
     },
     "execution_count": 11,
     "metadata": {},
     "output_type": "execute_result"
    }
   ],
   "source": [
    "sniffer.data_processing()\n",
    "processed_data = sniffer.data\n",
    "sniffer.pii_scorer_call()\n",
    "processed_data = sniffer.data\n",
    "sniffer.rpi_caller()\n",
    "processed_data = sniffer.data\n",
    "sniffer.extract_phone_numbers()\n",
    "processed_data = sniffer.data\n",
    "sniffer.extract_organization_names()\n",
    "processed_data = sniffer.data\n",
    "sniffer.detect_pii_flag()\n",
    "processed_data = sniffer.data\n",
    "\n",
    "json_processed = processed_data.to_json(orient='records', default_handler=str)\n",
    "json_processed"
   ]
  },
  {
   "cell_type": "code",
   "execution_count": null,
   "id": "a39a13c9",
   "metadata": {},
   "outputs": [],
   "source": []
  }
 ],
 "metadata": {
  "kernelspec": {
   "display_name": "env-x",
   "language": "python",
   "name": "python3"
  },
  "language_info": {
   "codemirror_mode": {
    "name": "ipython",
    "version": 3
   },
   "file_extension": ".py",
   "mimetype": "text/x-python",
   "name": "python",
   "nbconvert_exporter": "python",
   "pygments_lexer": "ipython3",
   "version": "3.12.0"
  }
 },
 "nbformat": 4,
 "nbformat_minor": 5
}
